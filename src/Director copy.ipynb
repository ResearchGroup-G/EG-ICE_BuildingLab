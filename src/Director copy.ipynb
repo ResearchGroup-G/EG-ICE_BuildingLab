{
 "cells": [
  {
   "cell_type": "markdown",
   "metadata": {},
   "source": [
    "# CMBL"
   ]
  },
  {
   "cell_type": "markdown",
   "metadata": {},
   "source": [
    "## Sampling"
   ]
  },
  {
   "cell_type": "code",
   "execution_count": null,
   "metadata": {},
   "outputs": [],
   "source": [
    "from doepy import build, read_write"
   ]
  },
  {
   "cell_type": "code",
   "execution_count": null,
   "metadata": {},
   "outputs": [],
   "source": [
    "terrain = {'0':'Ocean','1': 'Country','2':'Suburbs','3':'Urban','4':'City'}\n",
    "fassade = {'0':'Horizontal-Windows', '1':'Vertical-Windows', '2':'Ribbon-Windows'}\n",
    "shading = {'0':'External-Shading','1': 'Low-SHGC-Value'}\n",
    "energyStandard = {'0':'GEG','1': 'NZEB','2':'Passive'}\n",
    "hvacSystemTemplates = {\n",
    "'0':'IdealAirSystem',\n",
    "'1':'ElectricBaseboard',\n",
    "'2':'BoilerBaseboard',\n",
    "'3':'ASHPBaseboard',\n",
    "'4':'DHWBaseboard',\n",
    "'5':'EvapCoolers_ElectricBaseboard',\n",
    "'6':'EvapCoolers_BoilerBaseboard',\n",
    "'7':'EvapCoolers_ASHPBaseboard',\n",
    "'8':'EvapCoolers_DHWBaseboard',\n",
    "'9':'EvapCoolers_Furnace',\n",
    "'10':'EvapCoolers_UnitHeaters',\n",
    "'11':'EvapCoolers',\n",
    "'12':'FCU_Chiller_Boiler',\n",
    "'13':'FCU_Chiller_ASHP',\n",
    "'14':'FCU_Chiller_DHW',\n",
    "'15':'FCU_Chiller_ElectricBaseboard',\n",
    "'16':'FCU_Chiller_GasHeaters',\n",
    "'17':'FCU_Chiller',\n",
    "'18':'FCU_ACChiller_Boiler',\n",
    "'19':'FCU_ACChiller_ASHP',\n",
    "'20':'FCU_ACChiller_DHW',\n",
    "'21':'FCU_ACChiller_ElectricBaseboard',\n",
    "'22':'FCU_ACChiller_GasHeaters',\n",
    "'23':'FCU_ACChiller',\n",
    "'24':'FCU_DCW_Boiler',\n",
    "'25':'FCU_DCW_ASHP',\n",
    "'26':'FCU_DCW_DHW',\n",
    "'27':'FCU_DCW_ElectricBaseboard',\n",
    "'28':'FCU_DCW_GasHeaters',\n",
    "'29':'FCU_DCW',\n",
    "'30':'GasHeaters',\n",
    "'31':'ResidentialAC_ElectricBaseboard',\n",
    "'32':'ResidentialAC_BoilerBaseboard',\n",
    "'33':'ResidentialAC_ASHPBaseboard',\n",
    "'34':'ResidentialAC_DHWBaseboard',\n",
    "'35':'ResidentialAC_ResidentialFurnace',\n",
    "'36':'ResidentialAC',\n",
    "'37':'ResidentialHP',\n",
    "'38':'ResidentialHPNoCool',\n",
    "'39':'ResidentialFurnace',\n",
    "'40':'VRF',\n",
    "'41':'WSHP_FluidCooler_Boiler',\n",
    "'42':'WSHP_CoolingTower_Boiler',\n",
    "'43':'WSHP_GSHP',\n",
    "'44':'WSHP_DCW_DHW',\n",
    "'45':'WindowAC_ElectricBaseboard',\n",
    "'46':'WindowAC_BoilerBaseboard',\n",
    "'47':'WindowAC_ASHPBaseboard',\n",
    "'48':'WindowAC_DHWBaseboard',\n",
    "'49':'WindowAC_Furnace',\n",
    "'50':'WindowAC_GasHeaters',\n",
    "'51':'WindowAC',\n",
    "'52':'VAV_Chiller_Boiler',\n",
    "'53':'VAV_Chiller_ASHP',\n",
    "'54':'VAV_Chiller_DHW',\n",
    "'55':'VAV_Chiller_PFP',\n",
    "'56':'VAV_Chiller_GasCoil',\n",
    "'57':'VAV_ACChiller_Boiler',\n",
    "'58':'VAV_ACChiller_ASHP',\n",
    "'59':'VAV_ACChiller_DHW',\n",
    "'60':'VAV_ACChiller_PFP',\n",
    "'61':'VAV_ACChiller_GasCoil',\n",
    "'62':'VAV_DCW_Boiler',\n",
    "'63':'VAV_DCW_ASHP',\n",
    "'64':'VAV_DCW_DHW',\n",
    "'65':'VAV_DCW_PFP',\n",
    "'66':'VAV_DCW_GasCoil',\n",
    "'67':'PVAV_Boiler',\n",
    "'68':'PVAV_ASHP',\n",
    "'69':'PVAV_DHW',\n",
    "'70':'PVAV_PFP',\n",
    "'71':'PVAV_BoilerElectricReheat',\n",
    "'72':'PSZAC_ElectricBaseboard',\n",
    "'73':'PSZAC_BoilerBaseboard',\n",
    "'74':'PSZAC_DHWBaseboard',\n",
    "'75':'PSZAC_GasHeaters',\n",
    "'76':'PSZAC_ElectricCoil',\n",
    "'77':'PSZAC_GasCoil',\n",
    "'78':'PSZAC_Boiler',\n",
    "'79':'PSZAC_ASHP',\n",
    "'80':'PSZAC_DHW',\n",
    "'81':'PSZAC',\n",
    "'82':'PSZAC_DCW_ElectricBaseboard',\n",
    "'83':'PSZAC_DCW_BoilerBaseboard',\n",
    "'84':'PSZAC_DCW_GasHeaters',\n",
    "'85':'PSZAC_DCW_ElectricCoil',\n",
    "'86':'PSZAC_DCW_GasCoil',\n",
    "'87':'PSZAC_DCW_Boiler',\n",
    "'88':'PSZAC_DCW_ASHP',\n",
    "'89':'PSZAC_DCW_DHW',\n",
    "'90':'PSZAC_DCW',\n",
    "'91':'PSZHP',\n",
    "'92':'PTAC_ElectricBaseboard',\n",
    "'93':'PTAC_BoilerBaseboard',\n",
    "'94':'PTAC_DHWBaseboard',\n",
    "'95':'PTAC_GasHeaters',\n",
    "'96':'PTAC_ElectricCoil',\n",
    "'97':'PTAC_GasCoil',\n",
    "'98':'PTAC_Boiler',\n",
    "'99':'PTAC_ASHP',\n",
    "'100':'PTAC_DHW',\n",
    "'101':'PTAC',\n",
    "'102':'PTHP',\n",
    "'103':'Furnace',\n",
    "'104':'DOAS_FCU_Chiller_Boiler',\n",
    "'105':'DOAS_FCU_Chiller_ASHP',\n",
    "'106':'DOAS_FCU_Chiller_DHW',\n",
    "'107':'DOAS_FCU_Chiller_ElectricBaseboard',\n",
    "'108':'DOAS_FCU_Chiller_GasHeaters',\n",
    "'109':'DOAS_FCU_Chiller',\n",
    "'110':'DOAS_FCU_ACChiller_Boiler',\n",
    "'111':'DOAS_FCU_ACChiller_ASHP',\n",
    "'112':'DOAS_FCU_ACChiller_DHW',\n",
    "'113':'DOAS_FCU_ACChiller_ElectricBaseboard',\n",
    "'114':'DOAS_FCU_ACChiller_GasHeaters',\n",
    "'115':'DOAS_FCU_ACChiller',\n",
    "'116':'DOAS_FCU_DCW_Boiler',\n",
    "'117':'DOAS_FCU_DCW_ASHP',\n",
    "'118':'DOAS_FCU_DCW_DHW',\n",
    "'119':'DOAS_FCU_DCW_ElectricBaseboard',\n",
    "'120':'DOAS_FCU_DCW_GasHeaters',\n",
    "'121':'DOAS_FCU_DCW',\n",
    "'122':'DOAS_VRF',\n",
    "'123':'DOAS_WSHP_FluidCooler_Boiler',\n",
    "'124':'DOAS_WSHP_CoolingTower_Boiler',\n",
    "'125':'DOAS_WSHP_GSHP',\n",
    "'126':'DOAS_WSHP_DCW_DHW',\n",
    "}"
   ]
  },
  {
   "cell_type": "code",
   "execution_count": null,
   "metadata": {},
   "outputs": [],
   "source": [
    "data_in=read_write.read_variables_csv('Parameters.csv')\n",
    "designSpaceMatrix = build.space_filling_lhs(data_in,num_samples = 5)\n",
    "designSpaceMatrix = designSpaceMatrix.round(2)\n",
    "\n",
    "integerColumnNames = ['Orientation','NumberOfFloors', 'Arm-Latitudinal-NumberOfSegments',\n",
    "'Arm-Longitudinal-NumberOfSegments','BaseBody-Inside-Latditudinal-NumberOfSegments']\n",
    "boolIntegerColumnNames = ['Has_Courtyard-Roof']\n",
    "textColumnNames = ['Terrain','Fassade','EnergyStandard','Shading','HVAC-System_Template','Output-Directory',]\n",
    "\n",
    "roundDict = {}\n",
    "for nonNumberColumnName in integerColumnNames + boolIntegerColumnNames + textColumnNames:\n",
    "    roundDict[nonNumberColumnName]=0\n",
    "designSpaceMatrix = designSpaceMatrix.round(roundDict)\n",
    "\n",
    "for integerColumnName in integerColumnNames:\n",
    "    designSpaceMatrix[integerColumnName]=designSpaceMatrix[integerColumnName].astype('int')\n",
    "\n",
    "for boolIntegerColumnName in boolIntegerColumnNames:\n",
    "    designSpaceMatrix[boolIntegerColumnName]=designSpaceMatrix[boolIntegerColumnName].astype('bool')\n",
    "\n",
    "for textColumnName in textColumnNames:\n",
    "    designSpaceMatrix[textColumnName]=designSpaceMatrix[textColumnName].astype('int')\n",
    "    designSpaceMatrix[textColumnName]=designSpaceMatrix[textColumnName].astype('str')\n",
    "\n",
    "designSpaceMatrix['Terrain'] = designSpaceMatrix['Terrain'].map(terrain)\n",
    "designSpaceMatrix['Fassade'] = designSpaceMatrix['Fassade'].map(fassade)\n",
    "designSpaceMatrix['Shading'] = designSpaceMatrix['Shading'].map(shading)\n",
    "designSpaceMatrix['EnergyStandard'] = designSpaceMatrix['EnergyStandard'].map(energyStandard)\n",
    "designSpaceMatrix['HVAC-System_Template'] = designSpaceMatrix['HVAC-System_Template'].map(hvacSystemTemplates)\n",
    "designSpaceMatrix['Output-Directory'] = designSpaceMatrix['Output-Directory'].map({'0':r'C:\\Git\\Work\\FOR2363\\Model-Runner\\src'})\n",
    "\n",
    "designSpaceMatrix.to_csv('DesignSpaceMatrix.csv')\n",
    "print(designSpaceMatrix.dtypes)\n",
    "designSpaceMatrix"
   ]
  },
  {
   "cell_type": "markdown",
   "metadata": {},
   "source": [
    "## Simulation"
   ]
  },
  {
   "cell_type": "markdown",
   "metadata": {},
   "source": [
    "### Definitions"
   ]
  },
  {
   "cell_type": "code",
   "execution_count": null,
   "metadata": {},
   "outputs": [],
   "source": [
    "import compute_rhino3d\n",
    "import compute_rhino3d.Grasshopper as gh\n",
    "from rhino3dm import GeometryBase,File3dm,CommonObject,ObjectAttributes,Point3d\n",
    "import json\n",
    "from numpy import float64, int32, bool_"
   ]
  },
  {
   "cell_type": "code",
   "execution_count": null,
   "metadata": {},
   "outputs": [],
   "source": [
    "compute_rhino3d.Util.authToken = \"\"\n",
    "compute_rhino3d.Util.url = \"http://localhost:6500/\""
   ]
  },
  {
   "cell_type": "code",
   "execution_count": null,
   "metadata": {},
   "outputs": [],
   "source": [
    "def callGrasshopper(path,parameters):\n",
    "    trees = convertToTrees(parameters)\n",
    "    return gh.EvaluateDefinition(path, trees)\n",
    "\n",
    "def convertToTrees(parameters):\n",
    "    trees = []\n",
    "    if type(parameters) is not dict:\n",
    "        return \"Parameters have to be a dictionary\"\n",
    "    for kw in parameters:\n",
    "        branches = parameters[kw]\n",
    "        tree = gh.DataTree(kw)\n",
    "        #check if branches is just item\n",
    "        if type(branches) != list:\n",
    "            tree.Append([0], [encode(branches)])\n",
    "        else:\n",
    "            #check if branches is list\n",
    "            if type(branches[0]) != list:\n",
    "                tree.Append([0], [encode(item) for item in branches])\n",
    "            else:\n",
    "                for i,branch in enumerate(branches):\n",
    "                    tree.Append([i], [encode(item) for item in branch])\n",
    "        trees.append(tree)\n",
    "    return trees\n",
    "\n",
    "def encode(value):\n",
    "    if type(value).__module__.startswith('rhino3dm'):\n",
    "        return json.dumps(value.Encode())\n",
    "    else:\n",
    "        return value\n",
    "    \n",
    "def saveResults(values):\n",
    "    #Save results\n",
    "    model = File3dm()\n",
    "    for val in values:\n",
    "        paramName = val['ParamName']\n",
    "        innerTree = val['InnerTree']\n",
    "        isLayerInitialized=False\n",
    "        for key, innerVals in innerTree.items():\n",
    "            for innerVal in innerVals:\n",
    "                #if innerVal['type'] != \"System.String\":\n",
    "                try:\n",
    "                    if not isLayerInitialized:\n",
    "                        layerIndex = model.Layers.AddLayer(paramName,(0,0,0,255))\n",
    "                        isLayerInitialized=True\n",
    "                    data = json.loads(innerVal['data'])\n",
    "                    decodedData = CommonObject.Decode(data)\n",
    "                    objectAttributes = ObjectAttributes()\n",
    "                    objectAttributes.LayerIndex = layerIndex\n",
    "                    model.Objects.Add(decodedData,objectAttributes)\n",
    "                except:\n",
    "                    pass\n",
    "    #model.Write(simulationResultsDirectory + '\\\\model.3dm')"
   ]
  },
  {
   "cell_type": "markdown",
   "metadata": {},
   "source": [
    "### Call"
   ]
  },
  {
   "cell_type": "code",
   "execution_count": null,
   "metadata": {},
   "outputs": [],
   "source": [
    "# scriptPath = r\"C:\\Git\\Work\\FOR2363\\Parametric-H-Shape-Office-Building-Model\\src\\Director.ghx\"\n",
    "# parameters = designSpaceMatrix.iloc[0].to_dict()\n",
    "# # Find names here https://bigladdersoftware.com/epx/docs/22-2/input-output-reference/index.html\n",
    "# #parameters['Output-Names']=[\"Heating Coil Heating Rate\",\"Heating Coil Electricity Rate\"]\n",
    "# # See https://bigladdersoftware.com/epx/docs/22-2/input-output-reference/output-table-summaryreports.html#outputtablesummaryreports\n",
    "# # For some reason the summaries with empty spaces in the name do not work accordingly.\n",
    "# # If you need them just use AllSummaryMonthlyAndSizingPeriod to include everything\n",
    "# parameters['ModelName']=\"TestSimulation\"\n",
    "# parameters['Report-Names']=[\"AllSummaryMonthlyAndSizingPeriod\"]\n",
    "# parameters['HVAC-System_Template']=\"WindowAC_BoilerBaseboard\"\n",
    "# parameters['SimulationMode']=\"1\"\n",
    "# parameters"
   ]
  },
  {
   "cell_type": "code",
   "execution_count": null,
   "metadata": {},
   "outputs": [],
   "source": [
    "#result = callGrasshopper(scriptPath,parameters)\n",
    "#result"
   ]
  },
  {
   "cell_type": "code",
   "execution_count": null,
   "metadata": {},
   "outputs": [],
   "source": [
    "#reportResult = callGrasshopper(r\"C:\\Git\\Work\\FOR2363\\Parametric-H-Shape-Office-Building-Model\\src\\Reporting.ghx\",{})\n",
    "#reportResult"
   ]
  },
  {
   "cell_type": "markdown",
   "metadata": {},
   "source": [
    "## Post processing of results"
   ]
  },
  {
   "cell_type": "markdown",
   "metadata": {},
   "source": [
    "### Definitions"
   ]
  },
  {
   "cell_type": "code",
   "execution_count": null,
   "metadata": {},
   "outputs": [],
   "source": [
    "import csv\n",
    "from os.path import exists"
   ]
  },
  {
   "cell_type": "code",
   "execution_count": null,
   "metadata": {},
   "outputs": [],
   "source": [
    "def parseSingleResults(valuesReply):\n",
    "    results = {}\n",
    "    log = []\n",
    "    for valueReply in valuesReply['values']:\n",
    "        tree = valueReply['InnerTree']\n",
    "        if len(tree)!=1:\n",
    "            log.append(\"Tree did not have exactly one 1 branch\" +valueReply)\n",
    "            continue\n",
    "        value =list(tree.values())[0]\n",
    "        if len(value)!=1:\n",
    "            log.append(\"Branch did not have exactly one 1 value\")\n",
    "        results[valueReply['ParamName']]=value[0]['data'].strip('\"')\n",
    "    return (results,log)\n",
    "\n",
    "def appendValuesToFile(filePath,fieldnames,values):\n",
    "    if not exists(filePath):\n",
    "        with open(filePath, 'w', newline='') as csvfile:\n",
    "            writer = csv.DictWriter(csvfile, fieldnames=fieldnames)\n",
    "            writer.writeheader()\n",
    "    with open(filePath, 'a', newline='') as csvfile:\n",
    "        writer = csv.DictWriter(csvfile, fieldnames=fieldnames)\n",
    "        writer.writerow(values)"
   ]
  },
  {
   "cell_type": "markdown",
   "metadata": {},
   "source": [
    "### Write"
   ]
  },
  {
   "cell_type": "code",
   "execution_count": null,
   "metadata": {},
   "outputs": [],
   "source": [
    "# cleanResults,log = parseSingleResults(reportResult)\n",
    "# values = {**parameters,**cleanResults}\n",
    "# appendValuesToFile(\"results.csv\",list(parameters.keys())+list(cleanResults.keys()),values)\n",
    "# values"
   ]
  },
  {
   "cell_type": "markdown",
   "metadata": {},
   "source": [
    "## Batch"
   ]
  },
  {
   "cell_type": "code",
   "execution_count": null,
   "metadata": {},
   "outputs": [],
   "source": [
    "from threading import Thread, Semaphore\n",
    "from time import sleep\n",
    "import sys"
   ]
  },
  {
   "cell_type": "code",
   "execution_count": null,
   "metadata": {},
   "outputs": [],
   "source": [
    "simulationSemaphore = Semaphore(3)\n",
    "fileSemaphore = Semaphore()\n",
    "\n",
    "def simulate(i):\n",
    "    simulationSemaphore.acquire()\n",
    "    directorScriptPath = r\"C:\\Git\\Work\\FOR2363\\Parametric-H-Shape-Office-Building-Model\\src\\Director.ghx\"\n",
    "    parameters = designSpaceMatrix.iloc[i].to_dict()\n",
    "    parameters['Report-Names']=[\"AllSummaryMonthlyAndSizingPeriod\"]\n",
    "    parameters['SimulationMode']=\"1\"\n",
    "    modelName = \"Simulation\"+str(i).zfill(3)\n",
    "    parameters['ModelName'] = modelName\n",
    "    print(f\"{modelName} starting.\")\n",
    "    callGrasshopper(directorScriptPath,parameters)\n",
    "    reportScriptPath = r\"C:\\Git\\Work\\FOR2363\\Parametric-H-Shape-Office-Building-Model\\src\\Reporting.ghx\"\n",
    "    reportResult = callGrasshopper(reportScriptPath,{})\n",
    "    cleanResults,log = parseSingleResults(reportResult)\n",
    "    values = {**parameters,**cleanResults}\n",
    "    fileSemaphore.acquire()\n",
    "    print(f\"{modelName} writing.\")\n",
    "    appendValuesToFile(\"results.csv\",list(parameters.keys())+list(cleanResults.keys()),values)\n",
    "    print(f\"{modelName} finished writing.\")\n",
    "    fileSemaphore.release()\n",
    "    print(f\"{modelName} finished.\")\n",
    "    simulationSemaphore.release()\n",
    "\n",
    "simulations = []\n",
    "\n",
    "for i in range(len(designSpaceMatrix)):\n",
    "    simulations.append(Thread(target = simulate, args = (i,)))\n",
    "    simulations[i].start()\n",
    "\n",
    "for i in range(len(designSpaceMatrix)):\n",
    "    simulations[i].join()"
   ]
  }
 ],
 "metadata": {
  "kernelspec": {
   "display_name": "Python 3.10.6 ('hops')",
   "language": "python",
   "name": "python3"
  },
  "language_info": {
   "codemirror_mode": {
    "name": "ipython",
    "version": 3
   },
   "file_extension": ".py",
   "mimetype": "text/x-python",
   "name": "python",
   "nbconvert_exporter": "python",
   "pygments_lexer": "ipython3",
   "version": "3.10.6"
  },
  "orig_nbformat": 4,
  "vscode": {
   "interpreter": {
    "hash": "8f089de3ee8ac9a19a4d00c04cd18646beb289e6fdd68b62591a60e8f1fdf012"
   }
  }
 },
 "nbformat": 4,
 "nbformat_minor": 2
}
