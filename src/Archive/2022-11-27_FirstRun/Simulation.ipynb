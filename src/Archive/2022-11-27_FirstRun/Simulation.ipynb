{
 "cells": [
  {
   "cell_type": "code",
   "execution_count": 23,
   "metadata": {},
   "outputs": [],
   "source": [
    "numberOfSamples = 10\n",
    "outputDirectory = r\"E:\\Nextcloud\\Public\\FOR2363\\TP4\\LUH\\HVAC-Systems\\BatchCurrent\\Data_Source\\Simulation-Files\"\n",
    "weatherFilePath = r\"C:\\EnergyPlusV22-2-0\\WeatherData\\DEU_Munich.108660_IWEC.epw\"\n",
    "requiredUValuesPath = r\"C:\\Git\\Work\\FOR2363\\Parametric-H-Shape-Office-Building-Model\\src\\Required-U-Values.csv\"\n",
    "directorScriptPath = \"Director.gh\"\n",
    "reportScriptPath = \"Reporting.gh\"\n",
    "simulationScriptPath = \"Test.gh\"\n",
    "computeUrl = \"http://localhost:6500/\""
   ]
  },
  {
   "cell_type": "code",
   "execution_count": 20,
   "metadata": {},
   "outputs": [],
   "source": [
    "import compute_rhino3d\n",
    "import compute_rhino3d.Grasshopper as gh\n",
    "from rhino3dm import GeometryBase,File3dm,CommonObject,ObjectAttributes,Point3d\n",
    "import json\n",
    "from os.path import join\n",
    "from numpy import float64, int32, bool_\n",
    "compute_rhino3d.Util.authToken = \"\"\n",
    "compute_rhino3d.Util.url = computeUrl"
   ]
  },
  {
   "cell_type": "code",
   "execution_count": 21,
   "metadata": {},
   "outputs": [],
   "source": [
    "def callGrasshopper(path,parameters):\n",
    "    trees = convertToTrees(parameters)\n",
    "    return gh.EvaluateDefinition(path, trees)\n",
    "\n",
    "def convertToTrees(parameters):\n",
    "    trees = []\n",
    "    if type(parameters) is not dict:\n",
    "        return \"Parameters have to be a dictionary\"\n",
    "    for kw in parameters:\n",
    "        branches = parameters[kw]\n",
    "        #empty branches will be skipped\n",
    "        if branches:\n",
    "            tree = gh.DataTree(kw)\n",
    "            #check if branches is just item\n",
    "            if type(branches) != list:\n",
    "                tree.Append([0], [encode(branches)])\n",
    "            else:\n",
    "                #check if branches is list\n",
    "                if type(branches[0]) != list:\n",
    "                    tree.Append([0], [encode(item) for item in branches])\n",
    "                else:\n",
    "                    for i,branch in enumerate(branches):\n",
    "                        tree.Append([i], [encode(item) for item in branch])\n",
    "            trees.append(tree)\n",
    "    return trees\n",
    "\n",
    "def encode(value):\n",
    "    if type(value).__module__.startswith('rhino3dm'):\n",
    "        return json.dumps(value.Encode())\n",
    "    else:\n",
    "        return value"
   ]
  },
  {
   "cell_type": "code",
   "execution_count": 22,
   "metadata": {},
   "outputs": [
    {
     "ename": "JSONDecodeError",
     "evalue": "Expecting value: line 1 column 1 (char 0)",
     "output_type": "error",
     "traceback": [
      "\u001b[1;31m---------------------------------------------------------------------------\u001b[0m",
      "\u001b[1;31mJSONDecodeError\u001b[0m                           Traceback (most recent call last)",
      "File \u001b[1;32mc:\\Users\\Ueli\\.conda\\envs\\hops\\lib\\site-packages\\requests\\models.py:960\u001b[0m, in \u001b[0;36mResponse.json\u001b[1;34m(self, **kwargs)\u001b[0m\n\u001b[0;32m    959\u001b[0m \u001b[39mtry\u001b[39;00m:\n\u001b[1;32m--> 960\u001b[0m     \u001b[39mreturn\u001b[39;00m complexjson\u001b[39m.\u001b[39mloads(\u001b[39mself\u001b[39m\u001b[39m.\u001b[39mcontent\u001b[39m.\u001b[39mdecode(encoding), \u001b[39m*\u001b[39m\u001b[39m*\u001b[39mkwargs)\n\u001b[0;32m    961\u001b[0m \u001b[39mexcept\u001b[39;00m \u001b[39mUnicodeDecodeError\u001b[39;00m:\n\u001b[0;32m    962\u001b[0m     \u001b[39m# Wrong UTF codec detected; usually because it's not UTF-8\u001b[39;00m\n\u001b[0;32m    963\u001b[0m     \u001b[39m# but some other 8-bit codec.  This is an RFC violation,\u001b[39;00m\n\u001b[0;32m    964\u001b[0m     \u001b[39m# and the server didn't bother to tell us what codec *was*\u001b[39;00m\n\u001b[0;32m    965\u001b[0m     \u001b[39m# used.\u001b[39;00m\n",
      "File \u001b[1;32mc:\\Users\\Ueli\\.conda\\envs\\hops\\lib\\json\\__init__.py:346\u001b[0m, in \u001b[0;36mloads\u001b[1;34m(s, cls, object_hook, parse_float, parse_int, parse_constant, object_pairs_hook, **kw)\u001b[0m\n\u001b[0;32m    343\u001b[0m \u001b[39mif\u001b[39;00m (\u001b[39mcls\u001b[39m \u001b[39mis\u001b[39;00m \u001b[39mNone\u001b[39;00m \u001b[39mand\u001b[39;00m object_hook \u001b[39mis\u001b[39;00m \u001b[39mNone\u001b[39;00m \u001b[39mand\u001b[39;00m\n\u001b[0;32m    344\u001b[0m         parse_int \u001b[39mis\u001b[39;00m \u001b[39mNone\u001b[39;00m \u001b[39mand\u001b[39;00m parse_float \u001b[39mis\u001b[39;00m \u001b[39mNone\u001b[39;00m \u001b[39mand\u001b[39;00m\n\u001b[0;32m    345\u001b[0m         parse_constant \u001b[39mis\u001b[39;00m \u001b[39mNone\u001b[39;00m \u001b[39mand\u001b[39;00m object_pairs_hook \u001b[39mis\u001b[39;00m \u001b[39mNone\u001b[39;00m \u001b[39mand\u001b[39;00m \u001b[39mnot\u001b[39;00m kw):\n\u001b[1;32m--> 346\u001b[0m     \u001b[39mreturn\u001b[39;00m _default_decoder\u001b[39m.\u001b[39;49mdecode(s)\n\u001b[0;32m    347\u001b[0m \u001b[39mif\u001b[39;00m \u001b[39mcls\u001b[39m \u001b[39mis\u001b[39;00m \u001b[39mNone\u001b[39;00m:\n",
      "File \u001b[1;32mc:\\Users\\Ueli\\.conda\\envs\\hops\\lib\\json\\decoder.py:337\u001b[0m, in \u001b[0;36mJSONDecoder.decode\u001b[1;34m(self, s, _w)\u001b[0m\n\u001b[0;32m    333\u001b[0m \u001b[39m\"\"\"Return the Python representation of ``s`` (a ``str`` instance\u001b[39;00m\n\u001b[0;32m    334\u001b[0m \u001b[39mcontaining a JSON document).\u001b[39;00m\n\u001b[0;32m    335\u001b[0m \n\u001b[0;32m    336\u001b[0m \u001b[39m\"\"\"\u001b[39;00m\n\u001b[1;32m--> 337\u001b[0m obj, end \u001b[39m=\u001b[39m \u001b[39mself\u001b[39;49m\u001b[39m.\u001b[39;49mraw_decode(s, idx\u001b[39m=\u001b[39;49m_w(s, \u001b[39m0\u001b[39;49m)\u001b[39m.\u001b[39;49mend())\n\u001b[0;32m    338\u001b[0m end \u001b[39m=\u001b[39m _w(s, end)\u001b[39m.\u001b[39mend()\n",
      "File \u001b[1;32mc:\\Users\\Ueli\\.conda\\envs\\hops\\lib\\json\\decoder.py:355\u001b[0m, in \u001b[0;36mJSONDecoder.raw_decode\u001b[1;34m(self, s, idx)\u001b[0m\n\u001b[0;32m    354\u001b[0m \u001b[39mexcept\u001b[39;00m \u001b[39mStopIteration\u001b[39;00m \u001b[39mas\u001b[39;00m err:\n\u001b[1;32m--> 355\u001b[0m     \u001b[39mraise\u001b[39;00m JSONDecodeError(\u001b[39m\"\u001b[39m\u001b[39mExpecting value\u001b[39m\u001b[39m\"\u001b[39m, s, err\u001b[39m.\u001b[39mvalue) \u001b[39mfrom\u001b[39;00m \u001b[39mNone\u001b[39m\n\u001b[0;32m    356\u001b[0m \u001b[39mreturn\u001b[39;00m obj, end\n",
      "\u001b[1;31mJSONDecodeError\u001b[0m: Expecting value: line 1 column 1 (char 0)",
      "\nDuring handling of the above exception, another exception occurred:\n",
      "\u001b[1;31mJSONDecodeError\u001b[0m                           Traceback (most recent call last)",
      "Cell \u001b[1;32mIn [22], line 22\u001b[0m\n\u001b[0;32m     20\u001b[0m     r \u001b[39m=\u001b[39mcallGrasshopper(simulationScriptPath,{})\n\u001b[0;32m     21\u001b[0m     \u001b[39mreturn\u001b[39;00m r\n\u001b[1;32m---> 22\u001b[0m translateToIdf(\u001b[39m2\u001b[39;49m)\n",
      "Cell \u001b[1;32mIn [22], line 20\u001b[0m, in \u001b[0;36mtranslateToIdf\u001b[1;34m(i)\u001b[0m\n\u001b[0;32m      8\u001b[0m modelName \u001b[39m=\u001b[39m getModelName(i)\n\u001b[0;32m      9\u001b[0m parameters \u001b[39m=\u001b[39m {\n\u001b[0;32m     10\u001b[0m     \u001b[39m'\u001b[39m\u001b[39mHoneybee-FilePath\u001b[39m\u001b[39m'\u001b[39m: encryptPathForCompute(join(outputDirectory, modelName \u001b[39m+\u001b[39m \u001b[39m\"\u001b[39m\u001b[39m.hbjson\u001b[39m\u001b[39m\"\u001b[39m)),\n\u001b[0;32m     11\u001b[0m     \u001b[39m'\u001b[39m\u001b[39mEPW-FilePath\u001b[39m\u001b[39m'\u001b[39m: encryptPathForCompute(weatherFilePath),\n\u001b[1;32m   (...)\u001b[0m\n\u001b[0;32m     17\u001b[0m     \u001b[39m'\u001b[39m\u001b[39mTerrain\u001b[39m\u001b[39m'\u001b[39m: \u001b[39m\"\u001b[39m\u001b[39mCity\u001b[39m\u001b[39m\"\u001b[39m,\n\u001b[0;32m     18\u001b[0m }\n\u001b[1;32m---> 20\u001b[0m r \u001b[39m=\u001b[39mcallGrasshopper(simulationScriptPath,{})\n\u001b[0;32m     21\u001b[0m \u001b[39mreturn\u001b[39;00m r\n",
      "Cell \u001b[1;32mIn [21], line 3\u001b[0m, in \u001b[0;36mcallGrasshopper\u001b[1;34m(path, parameters)\u001b[0m\n\u001b[0;32m      1\u001b[0m \u001b[39mdef\u001b[39;00m \u001b[39mcallGrasshopper\u001b[39m(path,parameters):\n\u001b[0;32m      2\u001b[0m     trees \u001b[39m=\u001b[39m convertToTrees(parameters)\n\u001b[1;32m----> 3\u001b[0m     \u001b[39mreturn\u001b[39;00m gh\u001b[39m.\u001b[39;49mEvaluateDefinition(path, trees)\n",
      "File \u001b[1;32mc:\\Users\\Ueli\\.conda\\envs\\hops\\lib\\site-packages\\compute_rhino3d\\Grasshopper.py:57\u001b[0m, in \u001b[0;36mEvaluateDefinition\u001b[1;34m(definition, trees)\u001b[0m\n\u001b[0;32m     54\u001b[0m     args[\u001b[39m'\u001b[39m\u001b[39malgo\u001b[39m\u001b[39m'\u001b[39m] \u001b[39m=\u001b[39m \u001b[39mstr\u001b[39m(encoded, \u001b[39m'\u001b[39m\u001b[39mutf-8\u001b[39m\u001b[39m'\u001b[39m)\n\u001b[0;32m     56\u001b[0m args[\u001b[39m'\u001b[39m\u001b[39mvalues\u001b[39m\u001b[39m'\u001b[39m] \u001b[39m=\u001b[39m [tree\u001b[39m.\u001b[39mdata \u001b[39mfor\u001b[39;00m tree \u001b[39min\u001b[39;00m trees]\n\u001b[1;32m---> 57\u001b[0m response \u001b[39m=\u001b[39m Util\u001b[39m.\u001b[39;49mComputeFetch(url, args)\n\u001b[0;32m     58\u001b[0m \u001b[39mreturn\u001b[39;00m response\n",
      "File \u001b[1;32mc:\\Users\\Ueli\\.conda\\envs\\hops\\lib\\site-packages\\compute_rhino3d\\Util.py:35\u001b[0m, in \u001b[0;36mComputeFetch\u001b[1;34m(endpoint, arglist)\u001b[0m\n\u001b[0;32m     33\u001b[0m     headers[\u001b[39m'\u001b[39m\u001b[39mRhinoComputeKey\u001b[39m\u001b[39m'\u001b[39m] \u001b[39m=\u001b[39m apiKey\n\u001b[0;32m     34\u001b[0m r \u001b[39m=\u001b[39m requests\u001b[39m.\u001b[39mpost(posturl, data\u001b[39m=\u001b[39mpostdata, headers\u001b[39m=\u001b[39mheaders)\n\u001b[1;32m---> 35\u001b[0m \u001b[39mreturn\u001b[39;00m r\u001b[39m.\u001b[39;49mjson()\n",
      "File \u001b[1;32mc:\\Users\\Ueli\\.conda\\envs\\hops\\lib\\site-packages\\requests\\models.py:968\u001b[0m, in \u001b[0;36mResponse.json\u001b[1;34m(self, **kwargs)\u001b[0m\n\u001b[0;32m    966\u001b[0m             \u001b[39mpass\u001b[39;00m\n\u001b[0;32m    967\u001b[0m         \u001b[39mexcept\u001b[39;00m JSONDecodeError \u001b[39mas\u001b[39;00m e:\n\u001b[1;32m--> 968\u001b[0m             \u001b[39mraise\u001b[39;00m RequestsJSONDecodeError(e\u001b[39m.\u001b[39mmsg, e\u001b[39m.\u001b[39mdoc, e\u001b[39m.\u001b[39mpos)\n\u001b[0;32m    970\u001b[0m \u001b[39mtry\u001b[39;00m:\n\u001b[0;32m    971\u001b[0m     \u001b[39mreturn\u001b[39;00m complexjson\u001b[39m.\u001b[39mloads(\u001b[39mself\u001b[39m\u001b[39m.\u001b[39mtext, \u001b[39m*\u001b[39m\u001b[39m*\u001b[39mkwargs)\n",
      "\u001b[1;31mJSONDecodeError\u001b[0m: Expecting value: line 1 column 1 (char 0)"
     ]
    }
   ],
   "source": [
    "def encryptPathForCompute(path):\n",
    "    return path.replace('\\\\','%').replace(':','$')\n",
    "\n",
    "def getModelName(i):\n",
    "    return \"Simulation\"+str(i).zfill(3)\n",
    "\n",
    "def translateToIdf(i):\n",
    "    modelName = getModelName(i)\n",
    "    parameters = {\n",
    "        'Honeybee-FilePath': encryptPathForCompute(join(outputDirectory, modelName + \".hbjson\")),\n",
    "        'EPW-FilePath': encryptPathForCompute(weatherFilePath),\n",
    "        'Output-Directory': encryptPathForCompute(outputDirectory),\n",
    "        'Output-Names':['Dummy'],\n",
    "        'Report-Names':[\"AllSummary\"],\n",
    "        'SimulationMode':0,\n",
    "        'AdditionalIDF':\"!-Dummy\",\n",
    "        'Terrain': \"City\",\n",
    "    }\n",
    "    \n",
    "    r =callGrasshopper(simulationScriptPath,{})\n",
    "    return r\n",
    "translateToIdf(2)"
   ]
  }
 ],
 "metadata": {
  "kernelspec": {
   "display_name": "Python 3.10.6 ('hops')",
   "language": "python",
   "name": "python3"
  },
  "language_info": {
   "codemirror_mode": {
    "name": "ipython",
    "version": 3
   },
   "file_extension": ".py",
   "mimetype": "text/x-python",
   "name": "python",
   "nbconvert_exporter": "python",
   "pygments_lexer": "ipython3",
   "version": "3.10.6"
  },
  "orig_nbformat": 4,
  "vscode": {
   "interpreter": {
    "hash": "8f089de3ee8ac9a19a4d00c04cd18646beb289e6fdd68b62591a60e8f1fdf012"
   }
  }
 },
 "nbformat": 4,
 "nbformat_minor": 2
}
